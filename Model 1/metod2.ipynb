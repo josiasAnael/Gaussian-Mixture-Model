{
 "cells": [
  {
   "cell_type": "code",
   "execution_count": 150,
   "metadata": {},
   "outputs": [],
   "source": [
    "#Se importa el GaussianMixture desde Pyspark\n",
    "from pyspark.ml.clustering import GaussianMixture\n",
    "import pandas as pd\n",
    "from pyspark.sql import SparkSession\n",
    "from sklearn.preprocessing import StandardScaler\n",
    "from plotnine import *"
   ]
  },
  {
   "cell_type": "code",
   "execution_count": 151,
   "metadata": {},
   "outputs": [],
   "source": [
    "#Inicializamos nuestra sesión, paso necesario para el contexto\n",
    "spark = SparkSession.builder.appName('GaussianMixtureML').getOrCreate()"
   ]
  },
  {
   "cell_type": "code",
   "execution_count": 152,
   "metadata": {},
   "outputs": [
    {
     "data": {
      "text/html": [
       "<div>\n",
       "<style scoped>\n",
       "    .dataframe tbody tr th:only-of-type {\n",
       "        vertical-align: middle;\n",
       "    }\n",
       "\n",
       "    .dataframe tbody tr th {\n",
       "        vertical-align: top;\n",
       "    }\n",
       "\n",
       "    .dataframe thead th {\n",
       "        text-align: right;\n",
       "    }\n",
       "</style>\n",
       "<table border=\"1\" class=\"dataframe\">\n",
       "  <thead>\n",
       "    <tr style=\"text-align: right;\">\n",
       "      <th></th>\n",
       "      <th>Item</th>\n",
       "      <th>Serving.size</th>\n",
       "      <th>Calories</th>\n",
       "      <th>Fat.Cal</th>\n",
       "      <th>Protein(g)</th>\n",
       "      <th>Fat(g)</th>\n",
       "      <th>Sat.Fat(g)</th>\n",
       "      <th>Trans.fat(g)</th>\n",
       "      <th>Chol(mg)</th>\n",
       "      <th>Sodium(mg)</th>\n",
       "      <th>Carbs(g)</th>\n",
       "      <th>Fiber(g)</th>\n",
       "      <th>Sugar(g)</th>\n",
       "      <th>Meat</th>\n",
       "      <th>Breakfast</th>\n",
       "      <th>Not Breakfast</th>\n",
       "      <th>CarbsxMeat</th>\n",
       "    </tr>\n",
       "  </thead>\n",
       "  <tbody>\n",
       "    <tr>\n",
       "      <th>0</th>\n",
       "      <td>Hamburger</td>\n",
       "      <td>109.0</td>\n",
       "      <td>260</td>\n",
       "      <td>90.0</td>\n",
       "      <td>13</td>\n",
       "      <td>10.0</td>\n",
       "      <td>4.0</td>\n",
       "      <td>0.0</td>\n",
       "      <td>35</td>\n",
       "      <td>490</td>\n",
       "      <td>28</td>\n",
       "      <td>1.0</td>\n",
       "      <td>6</td>\n",
       "      <td>1</td>\n",
       "      <td>0</td>\n",
       "      <td>1</td>\n",
       "      <td>28</td>\n",
       "    </tr>\n",
       "    <tr>\n",
       "      <th>1</th>\n",
       "      <td>Cheeseburger</td>\n",
       "      <td>121.0</td>\n",
       "      <td>300</td>\n",
       "      <td>130.0</td>\n",
       "      <td>16</td>\n",
       "      <td>14.0</td>\n",
       "      <td>6.0</td>\n",
       "      <td>0.0</td>\n",
       "      <td>45</td>\n",
       "      <td>710</td>\n",
       "      <td>28</td>\n",
       "      <td>1.0</td>\n",
       "      <td>6</td>\n",
       "      <td>1</td>\n",
       "      <td>0</td>\n",
       "      <td>1</td>\n",
       "      <td>28</td>\n",
       "    </tr>\n",
       "    <tr>\n",
       "      <th>2</th>\n",
       "      <td>Double_Hamburger</td>\n",
       "      <td>146.0</td>\n",
       "      <td>360</td>\n",
       "      <td>160.0</td>\n",
       "      <td>22</td>\n",
       "      <td>18.0</td>\n",
       "      <td>8.0</td>\n",
       "      <td>0.0</td>\n",
       "      <td>70</td>\n",
       "      <td>520</td>\n",
       "      <td>28</td>\n",
       "      <td>1.0</td>\n",
       "      <td>6</td>\n",
       "      <td>1</td>\n",
       "      <td>0</td>\n",
       "      <td>1</td>\n",
       "      <td>28</td>\n",
       "    </tr>\n",
       "    <tr>\n",
       "      <th>3</th>\n",
       "      <td>Double_Cheeseburger</td>\n",
       "      <td>171.0</td>\n",
       "      <td>450</td>\n",
       "      <td>230.0</td>\n",
       "      <td>26</td>\n",
       "      <td>26.0</td>\n",
       "      <td>12.0</td>\n",
       "      <td>1.0</td>\n",
       "      <td>95</td>\n",
       "      <td>960</td>\n",
       "      <td>29</td>\n",
       "      <td>1.0</td>\n",
       "      <td>6</td>\n",
       "      <td>1</td>\n",
       "      <td>0</td>\n",
       "      <td>1</td>\n",
       "      <td>29</td>\n",
       "    </tr>\n",
       "    <tr>\n",
       "      <th>4</th>\n",
       "      <td>Buck_Double</td>\n",
       "      <td>158.0</td>\n",
       "      <td>410</td>\n",
       "      <td>200.0</td>\n",
       "      <td>24</td>\n",
       "      <td>22.0</td>\n",
       "      <td>10.0</td>\n",
       "      <td>0.5</td>\n",
       "      <td>85</td>\n",
       "      <td>740</td>\n",
       "      <td>28</td>\n",
       "      <td>1.0</td>\n",
       "      <td>6</td>\n",
       "      <td>1</td>\n",
       "      <td>0</td>\n",
       "      <td>1</td>\n",
       "      <td>28</td>\n",
       "    </tr>\n",
       "    <tr>\n",
       "      <th>...</th>\n",
       "      <td>...</td>\n",
       "      <td>...</td>\n",
       "      <td>...</td>\n",
       "      <td>...</td>\n",
       "      <td>...</td>\n",
       "      <td>...</td>\n",
       "      <td>...</td>\n",
       "      <td>...</td>\n",
       "      <td>...</td>\n",
       "      <td>...</td>\n",
       "      <td>...</td>\n",
       "      <td>...</td>\n",
       "      <td>...</td>\n",
       "      <td>...</td>\n",
       "      <td>...</td>\n",
       "      <td>...</td>\n",
       "      <td>...</td>\n",
       "    </tr>\n",
       "    <tr>\n",
       "      <th>117</th>\n",
       "      <td>FatFREEMilk(8oz)</td>\n",
       "      <td>NaN</td>\n",
       "      <td>90</td>\n",
       "      <td>0.0</td>\n",
       "      <td>9</td>\n",
       "      <td>0.0</td>\n",
       "      <td>0.0</td>\n",
       "      <td>0.0</td>\n",
       "      <td>5</td>\n",
       "      <td>125</td>\n",
       "      <td>13</td>\n",
       "      <td>0.0</td>\n",
       "      <td>12</td>\n",
       "      <td>0</td>\n",
       "      <td>0</td>\n",
       "      <td>1</td>\n",
       "      <td>0</td>\n",
       "    </tr>\n",
       "    <tr>\n",
       "      <th>118</th>\n",
       "      <td>1%LowFatChocolateMilk(8oz)</td>\n",
       "      <td>NaN</td>\n",
       "      <td>160</td>\n",
       "      <td>25.0</td>\n",
       "      <td>8</td>\n",
       "      <td>2.5</td>\n",
       "      <td>1.5</td>\n",
       "      <td>0.0</td>\n",
       "      <td>15</td>\n",
       "      <td>150</td>\n",
       "      <td>26</td>\n",
       "      <td>1.0</td>\n",
       "      <td>25</td>\n",
       "      <td>0</td>\n",
       "      <td>0</td>\n",
       "      <td>1</td>\n",
       "      <td>0</td>\n",
       "    </tr>\n",
       "    <tr>\n",
       "      <th>119</th>\n",
       "      <td>VanillaMilkShake12fl oz</td>\n",
       "      <td>NaN</td>\n",
       "      <td>350</td>\n",
       "      <td>100.0</td>\n",
       "      <td>8</td>\n",
       "      <td>11.0</td>\n",
       "      <td>8.0</td>\n",
       "      <td>0.0</td>\n",
       "      <td>40</td>\n",
       "      <td>290</td>\n",
       "      <td>57</td>\n",
       "      <td>0.0</td>\n",
       "      <td>48</td>\n",
       "      <td>0</td>\n",
       "      <td>0</td>\n",
       "      <td>1</td>\n",
       "      <td>0</td>\n",
       "    </tr>\n",
       "    <tr>\n",
       "      <th>120</th>\n",
       "      <td>ChocolateMilkShake12fl oz</td>\n",
       "      <td>NaN</td>\n",
       "      <td>400</td>\n",
       "      <td>100.0</td>\n",
       "      <td>8</td>\n",
       "      <td>11.0</td>\n",
       "      <td>8.0</td>\n",
       "      <td>0.0</td>\n",
       "      <td>40</td>\n",
       "      <td>330</td>\n",
       "      <td>68</td>\n",
       "      <td>0.0</td>\n",
       "      <td>58</td>\n",
       "      <td>0</td>\n",
       "      <td>0</td>\n",
       "      <td>1</td>\n",
       "      <td>0</td>\n",
       "    </tr>\n",
       "    <tr>\n",
       "      <th>121</th>\n",
       "      <td>StrawberryMilkShake12fl oz</td>\n",
       "      <td>NaN</td>\n",
       "      <td>390</td>\n",
       "      <td>100.0</td>\n",
       "      <td>8</td>\n",
       "      <td>11.0</td>\n",
       "      <td>8.0</td>\n",
       "      <td>0.0</td>\n",
       "      <td>40</td>\n",
       "      <td>290</td>\n",
       "      <td>68</td>\n",
       "      <td>0.0</td>\n",
       "      <td>57</td>\n",
       "      <td>0</td>\n",
       "      <td>0</td>\n",
       "      <td>1</td>\n",
       "      <td>0</td>\n",
       "    </tr>\n",
       "  </tbody>\n",
       "</table>\n",
       "<p>122 rows × 17 columns</p>\n",
       "</div>"
      ],
      "text/plain": [
       "                           Item  Serving.size  Calories  Fat.Cal  Protein(g)  \\\n",
       "0                     Hamburger         109.0       260     90.0          13   \n",
       "1                  Cheeseburger         121.0       300    130.0          16   \n",
       "2              Double_Hamburger         146.0       360    160.0          22   \n",
       "3           Double_Cheeseburger         171.0       450    230.0          26   \n",
       "4                   Buck_Double         158.0       410    200.0          24   \n",
       "..                          ...           ...       ...      ...         ...   \n",
       "117            FatFREEMilk(8oz)           NaN        90      0.0           9   \n",
       "118  1%LowFatChocolateMilk(8oz)           NaN       160     25.0           8   \n",
       "119     VanillaMilkShake12fl oz           NaN       350    100.0           8   \n",
       "120   ChocolateMilkShake12fl oz           NaN       400    100.0           8   \n",
       "121  StrawberryMilkShake12fl oz           NaN       390    100.0           8   \n",
       "\n",
       "     Fat(g)  Sat.Fat(g)  Trans.fat(g)  Chol(mg)  Sodium(mg)  Carbs(g)  \\\n",
       "0      10.0         4.0           0.0        35         490        28   \n",
       "1      14.0         6.0           0.0        45         710        28   \n",
       "2      18.0         8.0           0.0        70         520        28   \n",
       "3      26.0        12.0           1.0        95         960        29   \n",
       "4      22.0        10.0           0.5        85         740        28   \n",
       "..      ...         ...           ...       ...         ...       ...   \n",
       "117     0.0         0.0           0.0         5         125        13   \n",
       "118     2.5         1.5           0.0        15         150        26   \n",
       "119    11.0         8.0           0.0        40         290        57   \n",
       "120    11.0         8.0           0.0        40         330        68   \n",
       "121    11.0         8.0           0.0        40         290        68   \n",
       "\n",
       "     Fiber(g)  Sugar(g)  Meat  Breakfast  Not Breakfast  CarbsxMeat  \n",
       "0         1.0         6     1          0              1          28  \n",
       "1         1.0         6     1          0              1          28  \n",
       "2         1.0         6     1          0              1          28  \n",
       "3         1.0         6     1          0              1          29  \n",
       "4         1.0         6     1          0              1          28  \n",
       "..        ...       ...   ...        ...            ...         ...  \n",
       "117       0.0        12     0          0              1           0  \n",
       "118       1.0        25     0          0              1           0  \n",
       "119       0.0        48     0          0              1           0  \n",
       "120       0.0        58     0          0              1           0  \n",
       "121       0.0        57     0          0              1           0  \n",
       "\n",
       "[122 rows x 17 columns]"
      ]
     },
     "execution_count": 152,
     "metadata": {},
     "output_type": "execute_result"
    }
   ],
   "source": [
    "#Leemos la data con pandas\n",
    "data_pandas = pd.read_csv('https://raw.githubusercontent.com/cmparlettpelleriti/CPSC392ParlettPelleriti/master/Data/burger-king-items.txt',\n",
    "    sep='\\t')\n",
    "#data_pandas.head()\n",
    "data_pandas"
   ]
  },
  {
   "cell_type": "code",
   "execution_count": 153,
   "metadata": {},
   "outputs": [
    {
     "name": "stderr",
     "output_type": "stream",
     "text": [
      "C:\\Users\\criss\\AppData\\Local\\Packages\\PythonSoftwareFoundation.Python.3.8_qbz5n2kfra8p0\\LocalCache\\local-packages\\Python38\\site-packages\\pyspark\\sql\\context.py:77: FutureWarning: Deprecated in 3.0.0. Use SparkSession.builder.getOrCreate() instead.\n"
     ]
    },
    {
     "data": {
      "text/plain": [
       "DataFrame[Item: string, Serving.size: double, Calories: bigint, Fat.Cal: double, Protein(g): bigint, Fat(g): double, Sat.Fat(g): double, Trans.fat(g): double, Chol(mg): bigint, Sodium(mg): bigint, Carbs(g): bigint, Fiber(g): double, Sugar(g): bigint, Meat: bigint, Breakfast: bigint, Not Breakfast: bigint, CarbsxMeat: bigint]"
      ]
     },
     "execution_count": 153,
     "metadata": {},
     "output_type": "execute_result"
    }
   ],
   "source": [
    "#Se convierte la data de Pandas a un Dataframe de Spark\n",
    "from pyspark.sql import SQLContext\n",
    "#Pasamos nuestra sesión al contexto\n",
    "sqlContext = SQLContext(spark)\n",
    "#Creamos el Dataframe con la Data obtenida anteriormente\n",
    "data_spark = sqlContext.createDataFrame(data_pandas)\n",
    "data_spark"
   ]
  },
  {
   "cell_type": "code",
   "execution_count": 154,
   "metadata": {},
   "outputs": [
    {
     "data": {
      "text/plain": [
       "DataFrame[Item: string, Serving.size: double, Calories: bigint, Fat.Cal: double, Protein(g): bigint, Fat(g): double, Sat.Fat(g): double, Trans.fat(g): double, Chol(mg): bigint, Sodium(mg): bigint, Carbs(g): bigint, Fiber(g): double, Sugar(g): bigint, Meat: bigint, Breakfast: bigint, Not Breakfast: bigint, CarbsxMeat: bigint, features: vector]"
      ]
     },
     "execution_count": 154,
     "metadata": {},
     "output_type": "execute_result"
    }
   ],
   "source": [
    "#Se añade la columna features (Calories y Sodium(mg))\n",
    "from pyspark.ml.feature import VectorAssembler\n",
    "assembler = VectorAssembler().setInputCols(['Calories','Sodium(mg)']).setOutputCol('features')\n",
    "data_spark = assembler.transform(data_spark)\n",
    "data_spark"
   ]
  },
  {
   "cell_type": "code",
   "execution_count": 156,
   "metadata": {},
   "outputs": [],
   "source": [
    "#Se inicializa el Gaussian\n",
    "gmm = GaussianMixture().setK(2).setSeed(538009335)"
   ]
  },
  {
   "cell_type": "code",
   "execution_count": 157,
   "metadata": {},
   "outputs": [],
   "source": [
    "#Aplicamos el modelo a la data\n",
    "model = gmm.fit(data_spark)"
   ]
  },
  {
   "cell_type": "code",
   "execution_count": 158,
   "metadata": {},
   "outputs": [
    {
     "name": "stdout",
     "output_type": "stream",
     "text": [
      "+--------------------------------------+----------------------------------------------------------------------------------+\n",
      "|mean                                  |cov                                                                               |\n",
      "+--------------------------------------+----------------------------------------------------------------------------------+\n",
      "|[712.0610607705725,1469.192787055152] |53355.95043747357  27873.81870971215   \\n27873.81870971215  179022.74433330467    |\n",
      "|[361.89241094007997,727.7996760930844]|21045.78282040177   46698.500068180714  \\n46698.500068180714  181934.26343735625  |\n",
      "+--------------------------------------+----------------------------------------------------------------------------------+\n",
      "\n"
     ]
    },
    {
     "name": "stderr",
     "output_type": "stream",
     "text": [
      "C:\\Users\\criss\\AppData\\Local\\Packages\\PythonSoftwareFoundation.Python.3.8_qbz5n2kfra8p0\\LocalCache\\local-packages\\Python38\\site-packages\\pyspark\\sql\\context.py:125: FutureWarning: Deprecated in 3.0.0. Use SparkSession.builder.getOrCreate() instead.\n"
     ]
    }
   ],
   "source": [
    "#Imprimimos el Gaussian como DataFrame\n",
    "model.gaussiansDF.show(truncate=False)"
   ]
  },
  {
   "cell_type": "code",
   "execution_count": 159,
   "metadata": {},
   "outputs": [
    {
     "data": {
      "text/plain": [
       "GaussianMixtureModel: uid=GaussianMixture_52cf2e4c5a92, k=2, numFeatures=2"
      ]
     },
     "execution_count": 159,
     "metadata": {},
     "output_type": "execute_result"
    }
   ],
   "source": [
    "model"
   ]
  },
  {
   "cell_type": "code",
   "execution_count": 160,
   "metadata": {},
   "outputs": [
    {
     "name": "stderr",
     "output_type": "stream",
     "text": [
      "C:\\Users\\criss\\AppData\\Local\\Packages\\PythonSoftwareFoundation.Python.3.8_qbz5n2kfra8p0\\LocalCache\\local-packages\\Python38\\site-packages\\pandas\\core\\frame.py:3678: SettingWithCopyWarning: \n",
      "A value is trying to be set on a copy of a slice from a DataFrame.\n",
      "Try using .loc[row_indexer,col_indexer] = value instead\n",
      "\n",
      "See the caveats in the documentation: https://pandas.pydata.org/pandas-docs/stable/user_guide/indexing.html#returning-a-view-versus-a-copy\n"
     ]
    }
   ],
   "source": [
    "features = ['Calories','Sodium(mg)']\n",
    "x = data_pandas[features]\n",
    "z = StandardScaler()\n",
    "x[features] = z.fit_transform(x)"
   ]
  },
  {
   "cell_type": "code",
   "execution_count": 165,
   "metadata": {},
   "outputs": [
    {
     "data": {
      "image/png": "[encoded data removed]",
      "text/plain": [
       "<Figure size 640x480 with 1 Axes>"
      ]
     },
     "metadata": {},
     "output_type": "display_data"
    },
    {
     "data": {
      "text/plain": [
       "<ggplot: (80348454069)>"
      ]
     },
     "execution_count": 165,
     "metadata": {},
     "output_type": "execute_result"
    }
   ],
   "source": [
    "(ggplot(x,aes(x=\"Calories\",y=\"Sodium(mg)\",color=\"cluster\"))+geom_point())"
   ]
  }
 ],
 "metadata": {
  "interpreter": {
   "hash": "63fd5069d213b44bf678585dea6b12cceca9941eaf7f819626cde1f2670de90d"
  },
  "kernelspec": {
   "display_name": "Python 3.9.6 64-bit",
   "language": "python",
   "name": "python3"
  },
  "language_info": {
   "codemirror_mode": {
    "name": "ipython",
    "version": 3
   },
   "file_extension": ".py",
   "mimetype": "text/x-python",
   "name": "python",
   "nbconvert_exporter": "python",
   "pygments_lexer": "ipython3",
   "version": "3.8.10"
  },
  "orig_nbformat": 4
 },
 "nbformat": 4,
 "nbformat_minor": 2
}
